{
 "cells": [
  {
   "cell_type": "markdown",
   "metadata": {},
   "source": [
    "## Estructura del cuaderno\n",
    "\n",
    "1. Setup + Carga del CSV\n",
    "2. Limpieza básica\n",
    "3. Exploración rápida y balance de clases\n",
    "4. Partición estratificada: train / valid / test (60/20/20)\n",
    "5. Definición de variables + Pipeline con imputación\n",
    "   - Numéricas: median → StandardScaler\n",
    "   - Categóricas: most_frequent → One-Hot\n",
    "6. Baselines sin tratar desbalance (LogReg / Árbol / RandomForest)\n",
    "7. Resumen de baselines y mejor candidato provisional\n",
    "8. Corrección de desbalance A: class_weight='balanced'\n",
    "9. Corrección de desbalance B: ajuste de umbral para maximizar F1\n",
    "10. (Opcional) Corrección de desbalance C: upsampling simple\n",
    "11. Comparativa global y selección de candidato\n",
    "12. Búsqueda breve de hiperparámetros (GridSearchCV)\n",
    "13. Selección de umbral óptimo en valid para el modelo optimizado\n",
    "14. Entrenamiento final (train+valid) y evaluación en test\n",
    "    - Métricas: F1 (meta ≥ 0.59) y AUC-ROC\n",
    "    - Matriz de confusión y reporte de clasificación\n",
    "15. Interpretabilidad: coeficientes / importancias\n",
    "    - Nombres vía get_feature_names_out(); si no, reconstrucción (num_cols + OHE) o feat_i\n",
    "16. (Opcional) Curvas ROC y PR del modelo final\n",
    "17. Conclusiones y próximos pasos\n"
   ]
  },
  {
   "cell_type": "markdown",
   "metadata": {},
   "source": [
    "1. Setup + Carga del CSV"
   ]
  },
  {
   "cell_type": "code",
   "execution_count": 1,
   "metadata": {},
   "outputs": [
    {
     "name": "stdout",
     "output_type": "stream",
     "text": [
      "✅ Usando archivo: /datasets/Churn.csv\n",
      "Dimensiones: (10000, 14)\n"
     ]
    },
    {
     "data": {
      "text/html": [
       "<div>\n",
       "<style scoped>\n",
       "    .dataframe tbody tr th:only-of-type {\n",
       "        vertical-align: middle;\n",
       "    }\n",
       "\n",
       "    .dataframe tbody tr th {\n",
       "        vertical-align: top;\n",
       "    }\n",
       "\n",
       "    .dataframe thead th {\n",
       "        text-align: right;\n",
       "    }\n",
       "</style>\n",
       "<table border=\"1\" class=\"dataframe\">\n",
       "  <thead>\n",
       "    <tr style=\"text-align: right;\">\n",
       "      <th></th>\n",
       "      <th>RowNumber</th>\n",
       "      <th>CustomerId</th>\n",
       "      <th>Surname</th>\n",
       "      <th>CreditScore</th>\n",
       "      <th>Geography</th>\n",
       "      <th>Gender</th>\n",
       "      <th>Age</th>\n",
       "      <th>Tenure</th>\n",
       "      <th>Balance</th>\n",
       "      <th>NumOfProducts</th>\n",
       "      <th>HasCrCard</th>\n",
       "      <th>IsActiveMember</th>\n",
       "      <th>EstimatedSalary</th>\n",
       "      <th>Exited</th>\n",
       "    </tr>\n",
       "  </thead>\n",
       "  <tbody>\n",
       "    <tr>\n",
       "      <th>0</th>\n",
       "      <td>1</td>\n",
       "      <td>15634602</td>\n",
       "      <td>Hargrave</td>\n",
       "      <td>619</td>\n",
       "      <td>France</td>\n",
       "      <td>Female</td>\n",
       "      <td>42</td>\n",
       "      <td>2.0</td>\n",
       "      <td>0.00</td>\n",
       "      <td>1</td>\n",
       "      <td>1</td>\n",
       "      <td>1</td>\n",
       "      <td>101348.88</td>\n",
       "      <td>1</td>\n",
       "    </tr>\n",
       "    <tr>\n",
       "      <th>1</th>\n",
       "      <td>2</td>\n",
       "      <td>15647311</td>\n",
       "      <td>Hill</td>\n",
       "      <td>608</td>\n",
       "      <td>Spain</td>\n",
       "      <td>Female</td>\n",
       "      <td>41</td>\n",
       "      <td>1.0</td>\n",
       "      <td>83807.86</td>\n",
       "      <td>1</td>\n",
       "      <td>0</td>\n",
       "      <td>1</td>\n",
       "      <td>112542.58</td>\n",
       "      <td>0</td>\n",
       "    </tr>\n",
       "    <tr>\n",
       "      <th>2</th>\n",
       "      <td>3</td>\n",
       "      <td>15619304</td>\n",
       "      <td>Onio</td>\n",
       "      <td>502</td>\n",
       "      <td>France</td>\n",
       "      <td>Female</td>\n",
       "      <td>42</td>\n",
       "      <td>8.0</td>\n",
       "      <td>159660.80</td>\n",
       "      <td>3</td>\n",
       "      <td>1</td>\n",
       "      <td>0</td>\n",
       "      <td>113931.57</td>\n",
       "      <td>1</td>\n",
       "    </tr>\n",
       "  </tbody>\n",
       "</table>\n",
       "</div>"
      ],
      "text/plain": [
       "   RowNumber  CustomerId   Surname  CreditScore Geography  Gender  Age  \\\n",
       "0          1    15634602  Hargrave          619    France  Female   42   \n",
       "1          2    15647311      Hill          608     Spain  Female   41   \n",
       "2          3    15619304      Onio          502    France  Female   42   \n",
       "\n",
       "   Tenure    Balance  NumOfProducts  HasCrCard  IsActiveMember  \\\n",
       "0     2.0       0.00              1          1               1   \n",
       "1     1.0   83807.86              1          0               1   \n",
       "2     8.0  159660.80              3          1               0   \n",
       "\n",
       "   EstimatedSalary  Exited  \n",
       "0        101348.88       1  \n",
       "1        112542.58       0  \n",
       "2        113931.57       1  "
      ]
     },
     "metadata": {},
     "output_type": "display_data"
    },
    {
     "name": "stdout",
     "output_type": "stream",
     "text": [
      "\n",
      "Columnas: ['RowNumber', 'CustomerId', 'Surname', 'CreditScore', 'Geography', 'Gender', 'Age', 'Tenure', 'Balance', 'NumOfProducts', 'HasCrCard', 'IsActiveMember', 'EstimatedSalary', 'Exited']\n"
     ]
    }
   ],
   "source": [
    "# ==== Setup básico + carga minimalista (Python 3.9 OK) ====\n",
    "import os\n",
    "from pathlib import Path\n",
    "import pandas as pd\n",
    "\n",
    "candidates = [\n",
    "    Path('/mnt/data/Churn.csv'),              # entorno actual\n",
    "    Path('/datasets/Churn.csv'),              # ruta del curso\n",
    "    Path('Churn.csv'),                        # carpeta actual\n",
    "    Path('data/Churn.csv'),                   # ./data\n",
    "    Path(r'C:\\Users\\asusl\\Downloads\\Churn.csv'),  # tu descarga Windows\n",
    "]\n",
    "\n",
    "CSV_PATH = None\n",
    "for p in candidates:\n",
    "    if p.exists():\n",
    "        CSV_PATH = p.resolve()\n",
    "        break\n",
    "\n",
    "if CSV_PATH is None:\n",
    "    print(\"No encontré Churn.csv en rutas típicas.\")\n",
    "    print(\"Archivos en el directorio actual:\", os.listdir('.'))\n",
    "    if os.path.exists('/datasets'):\n",
    "        print(\"\\nArchivos en /datasets:\", os.listdir('/datasets'))\n",
    "    raise FileNotFoundError(\"Coloca Churn.csv en el directorio actual o en /datasets y vuelve a ejecutar.\")\n",
    "\n",
    "print(f\"✅ Usando archivo: {CSV_PATH}\")\n",
    "\n",
    "df = pd.read_csv(CSV_PATH)\n",
    "print('Dimensiones:', df.shape)\n",
    "display(df.head(3))\n",
    "print('\\nColumnas:', list(df.columns))\n",
    "\n"
   ]
  },
  {
   "cell_type": "markdown",
   "metadata": {},
   "source": [
    "2.  Limpieza básica"
   ]
  },
  {
   "cell_type": "code",
   "execution_count": 2,
   "metadata": {},
   "outputs": [
    {
     "name": "stdout",
     "output_type": "stream",
     "text": [
      "Valores perdidos totales: 909\n"
     ]
    },
    {
     "data": {
      "text/html": [
       "<div>\n",
       "<style scoped>\n",
       "    .dataframe tbody tr th:only-of-type {\n",
       "        vertical-align: middle;\n",
       "    }\n",
       "\n",
       "    .dataframe tbody tr th {\n",
       "        vertical-align: top;\n",
       "    }\n",
       "\n",
       "    .dataframe thead th {\n",
       "        text-align: right;\n",
       "    }\n",
       "</style>\n",
       "<table border=\"1\" class=\"dataframe\">\n",
       "  <thead>\n",
       "    <tr style=\"text-align: right;\">\n",
       "      <th></th>\n",
       "      <th>CreditScore</th>\n",
       "      <th>Geography</th>\n",
       "      <th>Gender</th>\n",
       "      <th>Age</th>\n",
       "      <th>Tenure</th>\n",
       "      <th>Balance</th>\n",
       "      <th>NumOfProducts</th>\n",
       "      <th>HasCrCard</th>\n",
       "      <th>IsActiveMember</th>\n",
       "      <th>EstimatedSalary</th>\n",
       "      <th>Exited</th>\n",
       "    </tr>\n",
       "  </thead>\n",
       "  <tbody>\n",
       "    <tr>\n",
       "      <th>count</th>\n",
       "      <td>10000.000000</td>\n",
       "      <td>10000</td>\n",
       "      <td>10000</td>\n",
       "      <td>10000.000000</td>\n",
       "      <td>9091.000000</td>\n",
       "      <td>10000.000000</td>\n",
       "      <td>10000.000000</td>\n",
       "      <td>10000.00000</td>\n",
       "      <td>10000.000000</td>\n",
       "      <td>10000.000000</td>\n",
       "      <td>10000.000000</td>\n",
       "    </tr>\n",
       "    <tr>\n",
       "      <th>unique</th>\n",
       "      <td>NaN</td>\n",
       "      <td>3</td>\n",
       "      <td>2</td>\n",
       "      <td>NaN</td>\n",
       "      <td>NaN</td>\n",
       "      <td>NaN</td>\n",
       "      <td>NaN</td>\n",
       "      <td>NaN</td>\n",
       "      <td>NaN</td>\n",
       "      <td>NaN</td>\n",
       "      <td>NaN</td>\n",
       "    </tr>\n",
       "    <tr>\n",
       "      <th>top</th>\n",
       "      <td>NaN</td>\n",
       "      <td>France</td>\n",
       "      <td>Male</td>\n",
       "      <td>NaN</td>\n",
       "      <td>NaN</td>\n",
       "      <td>NaN</td>\n",
       "      <td>NaN</td>\n",
       "      <td>NaN</td>\n",
       "      <td>NaN</td>\n",
       "      <td>NaN</td>\n",
       "      <td>NaN</td>\n",
       "    </tr>\n",
       "    <tr>\n",
       "      <th>freq</th>\n",
       "      <td>NaN</td>\n",
       "      <td>5014</td>\n",
       "      <td>5457</td>\n",
       "      <td>NaN</td>\n",
       "      <td>NaN</td>\n",
       "      <td>NaN</td>\n",
       "      <td>NaN</td>\n",
       "      <td>NaN</td>\n",
       "      <td>NaN</td>\n",
       "      <td>NaN</td>\n",
       "      <td>NaN</td>\n",
       "    </tr>\n",
       "    <tr>\n",
       "      <th>mean</th>\n",
       "      <td>650.528800</td>\n",
       "      <td>NaN</td>\n",
       "      <td>NaN</td>\n",
       "      <td>38.921800</td>\n",
       "      <td>4.997690</td>\n",
       "      <td>76485.889288</td>\n",
       "      <td>1.530200</td>\n",
       "      <td>0.70550</td>\n",
       "      <td>0.515100</td>\n",
       "      <td>100090.239881</td>\n",
       "      <td>0.203700</td>\n",
       "    </tr>\n",
       "    <tr>\n",
       "      <th>std</th>\n",
       "      <td>96.653299</td>\n",
       "      <td>NaN</td>\n",
       "      <td>NaN</td>\n",
       "      <td>10.487806</td>\n",
       "      <td>2.894723</td>\n",
       "      <td>62397.405202</td>\n",
       "      <td>0.581654</td>\n",
       "      <td>0.45584</td>\n",
       "      <td>0.499797</td>\n",
       "      <td>57510.492818</td>\n",
       "      <td>0.402769</td>\n",
       "    </tr>\n",
       "    <tr>\n",
       "      <th>min</th>\n",
       "      <td>350.000000</td>\n",
       "      <td>NaN</td>\n",
       "      <td>NaN</td>\n",
       "      <td>18.000000</td>\n",
       "      <td>0.000000</td>\n",
       "      <td>0.000000</td>\n",
       "      <td>1.000000</td>\n",
       "      <td>0.00000</td>\n",
       "      <td>0.000000</td>\n",
       "      <td>11.580000</td>\n",
       "      <td>0.000000</td>\n",
       "    </tr>\n",
       "    <tr>\n",
       "      <th>25%</th>\n",
       "      <td>584.000000</td>\n",
       "      <td>NaN</td>\n",
       "      <td>NaN</td>\n",
       "      <td>32.000000</td>\n",
       "      <td>2.000000</td>\n",
       "      <td>0.000000</td>\n",
       "      <td>1.000000</td>\n",
       "      <td>0.00000</td>\n",
       "      <td>0.000000</td>\n",
       "      <td>51002.110000</td>\n",
       "      <td>0.000000</td>\n",
       "    </tr>\n",
       "    <tr>\n",
       "      <th>50%</th>\n",
       "      <td>652.000000</td>\n",
       "      <td>NaN</td>\n",
       "      <td>NaN</td>\n",
       "      <td>37.000000</td>\n",
       "      <td>5.000000</td>\n",
       "      <td>97198.540000</td>\n",
       "      <td>1.000000</td>\n",
       "      <td>1.00000</td>\n",
       "      <td>1.000000</td>\n",
       "      <td>100193.915000</td>\n",
       "      <td>0.000000</td>\n",
       "    </tr>\n",
       "    <tr>\n",
       "      <th>75%</th>\n",
       "      <td>718.000000</td>\n",
       "      <td>NaN</td>\n",
       "      <td>NaN</td>\n",
       "      <td>44.000000</td>\n",
       "      <td>7.000000</td>\n",
       "      <td>127644.240000</td>\n",
       "      <td>2.000000</td>\n",
       "      <td>1.00000</td>\n",
       "      <td>1.000000</td>\n",
       "      <td>149388.247500</td>\n",
       "      <td>0.000000</td>\n",
       "    </tr>\n",
       "    <tr>\n",
       "      <th>max</th>\n",
       "      <td>850.000000</td>\n",
       "      <td>NaN</td>\n",
       "      <td>NaN</td>\n",
       "      <td>92.000000</td>\n",
       "      <td>10.000000</td>\n",
       "      <td>250898.090000</td>\n",
       "      <td>4.000000</td>\n",
       "      <td>1.00000</td>\n",
       "      <td>1.000000</td>\n",
       "      <td>199992.480000</td>\n",
       "      <td>1.000000</td>\n",
       "    </tr>\n",
       "  </tbody>\n",
       "</table>\n",
       "</div>"
      ],
      "text/plain": [
       "         CreditScore Geography Gender           Age       Tenure  \\\n",
       "count   10000.000000     10000  10000  10000.000000  9091.000000   \n",
       "unique           NaN         3      2           NaN          NaN   \n",
       "top              NaN    France   Male           NaN          NaN   \n",
       "freq             NaN      5014   5457           NaN          NaN   \n",
       "mean      650.528800       NaN    NaN     38.921800     4.997690   \n",
       "std        96.653299       NaN    NaN     10.487806     2.894723   \n",
       "min       350.000000       NaN    NaN     18.000000     0.000000   \n",
       "25%       584.000000       NaN    NaN     32.000000     2.000000   \n",
       "50%       652.000000       NaN    NaN     37.000000     5.000000   \n",
       "75%       718.000000       NaN    NaN     44.000000     7.000000   \n",
       "max       850.000000       NaN    NaN     92.000000    10.000000   \n",
       "\n",
       "              Balance  NumOfProducts    HasCrCard  IsActiveMember  \\\n",
       "count    10000.000000   10000.000000  10000.00000    10000.000000   \n",
       "unique            NaN            NaN          NaN             NaN   \n",
       "top               NaN            NaN          NaN             NaN   \n",
       "freq              NaN            NaN          NaN             NaN   \n",
       "mean     76485.889288       1.530200      0.70550        0.515100   \n",
       "std      62397.405202       0.581654      0.45584        0.499797   \n",
       "min          0.000000       1.000000      0.00000        0.000000   \n",
       "25%          0.000000       1.000000      0.00000        0.000000   \n",
       "50%      97198.540000       1.000000      1.00000        1.000000   \n",
       "75%     127644.240000       2.000000      1.00000        1.000000   \n",
       "max     250898.090000       4.000000      1.00000        1.000000   \n",
       "\n",
       "        EstimatedSalary        Exited  \n",
       "count      10000.000000  10000.000000  \n",
       "unique              NaN           NaN  \n",
       "top                 NaN           NaN  \n",
       "freq                NaN           NaN  \n",
       "mean      100090.239881      0.203700  \n",
       "std        57510.492818      0.402769  \n",
       "min           11.580000      0.000000  \n",
       "25%        51002.110000      0.000000  \n",
       "50%       100193.915000      0.000000  \n",
       "75%       149388.247500      0.000000  \n",
       "max       199992.480000      1.000000  "
      ]
     },
     "metadata": {},
     "output_type": "display_data"
    },
    {
     "name": "stdout",
     "output_type": "stream",
     "text": [
      "\n",
      "Columnas finales: ['CreditScore', 'Geography', 'Gender', 'Age', 'Tenure', 'Balance', 'NumOfProducts', 'HasCrCard', 'IsActiveMember', 'EstimatedSalary', 'Exited']\n"
     ]
    }
   ],
   "source": [
    "# ==== Limpieza básica ====\n",
    "cols_drop = ['RowNumber', 'CustomerId', 'Surname']\n",
    "df = df.drop(columns=[c for c in cols_drop if c in df.columns], errors='ignore')\n",
    "\n",
    "nulls = df.isna().sum()\n",
    "print(\"Valores perdidos totales:\", int(nulls.sum()))\n",
    "display(df.describe(include='all'))\n",
    "print(\"\\nColumnas finales:\", list(df.columns))\n"
   ]
  },
  {
   "cell_type": "markdown",
   "metadata": {},
   "source": [
    "3. Exploración rápida y balance de clases"
   ]
  },
  {
   "cell_type": "code",
   "execution_count": 3,
   "metadata": {},
   "outputs": [
    {
     "name": "stdout",
     "output_type": "stream",
     "text": [
      "Tamaños -> train: (6000, 10) | valid: (2000, 10) | test: (2000, 10)\n"
     ]
    }
   ],
   "source": [
    "# ==== Split estratificado 60/20/20 ====\n",
    "import numpy as np\n",
    "\n",
    "from sklearn.model_selection import train_test_split\n",
    "from sklearn.metrics import (\n",
    "    f1_score, roc_auc_score, confusion_matrix, classification_report,\n",
    "    precision_score, recall_score\n",
    ")\n",
    "\n",
    "TARGET = 'Exited'\n",
    "assert TARGET in df.columns, f'No se encontró la columna objetivo: {TARGET}'\n",
    "\n",
    "# 80% train+valid / 20% test\n",
    "train_valid, test = train_test_split(\n",
    "    df, test_size=0.20, random_state=12345, stratify=df[TARGET]\n",
    ")\n",
    "\n",
    "# 60% train / 20% valid (de todo el dataset)\n",
    "train, valid = train_test_split(\n",
    "    train_valid, test_size=0.25, random_state=12345, stratify=train_valid[TARGET]\n",
    ")\n",
    "\n",
    "X_train, y_train = train.drop(columns=[TARGET]), train[TARGET]\n",
    "X_valid, y_valid = valid.drop(columns=[TARGET]), valid[TARGET]\n",
    "X_test,  y_test  = test.drop(columns=[TARGET]),  test[TARGET]\n",
    "\n",
    "print('Tamaños ->',\n",
    "      'train:', X_train.shape, '| valid:', X_valid.shape, '| test:', X_test.shape)\n"
   ]
  },
  {
   "cell_type": "markdown",
   "metadata": {},
   "source": [
    "4. Partición estratificada: train / valid / test (60/20/20)"
   ]
  },
  {
   "cell_type": "code",
   "execution_count": 4,
   "metadata": {},
   "outputs": [
    {
     "name": "stdout",
     "output_type": "stream",
     "text": [
      "Numéricas: ['CreditScore', 'Age', 'Tenure', 'Balance', 'NumOfProducts', 'HasCrCard', 'IsActiveMember', 'EstimatedSalary']\n",
      "Categóricas: ['Geography', 'Gender']\n"
     ]
    }
   ],
   "source": [
    "from sklearn.preprocessing import OneHotEncoder, StandardScaler\n",
    "from sklearn.compose import ColumnTransformer\n",
    "\n",
    "# Detectar tipos\n",
    "num_cols = X_train.select_dtypes(include=['int64', 'float64']).columns.tolist()\n",
    "cat_cols = X_train.select_dtypes(include=['object', 'category', 'bool']).columns.tolist()\n",
    "\n",
    "print('Numéricas:', num_cols)\n",
    "print('Categóricas:', cat_cols)\n",
    "\n",
    "# Transformador\n",
    "preprocess = ColumnTransformer(\n",
    "    transformers=[\n",
    "        ('num', StandardScaler(), num_cols),\n",
    "        ('cat', OneHotEncoder(handle_unknown='ignore', sparse=False), cat_cols)\n",
    "    ],\n",
    "    remainder='drop'\n",
    ")\n"
   ]
  },
  {
   "cell_type": "markdown",
   "metadata": {},
   "source": [
    "5. Definición de variables + Pipeline con imputación"
   ]
  },
  {
   "cell_type": "code",
   "execution_count": 8,
   "metadata": {},
   "outputs": [
    {
     "name": "stdout",
     "output_type": "stream",
     "text": [
      "Numéricas: ['CreditScore', 'Age', 'Tenure', 'Balance', 'NumOfProducts', 'HasCrCard', 'IsActiveMember', 'EstimatedSalary']\n",
      "Categóricas: ['Geography', 'Gender']\n",
      "✅ Pipeline con imputación creado (num: median + escala | cat: most_frequent + one-hot)\n"
     ]
    }
   ],
   "source": [
    "# ==== Definición de variables + Pipeline con imputación ====\n",
    "from sklearn.preprocessing import OneHotEncoder, StandardScaler\n",
    "from sklearn.impute import SimpleImputer\n",
    "from sklearn.compose import ColumnTransformer\n",
    "from sklearn.pipeline import Pipeline\n",
    "\n",
    "# Detectar tipos\n",
    "num_cols = X_train.select_dtypes(include=['int64','float64']).columns.tolist()\n",
    "cat_cols = X_train.select_dtypes(include=['object','category','bool']).columns.tolist()\n",
    "\n",
    "print('Numéricas:', num_cols)\n",
    "print('Categóricas:', cat_cols)\n",
    "\n",
    "# Pipelines con imputación\n",
    "num_pipeline = Pipeline(steps=[\n",
    "    ('imputer', SimpleImputer(strategy='median')),\n",
    "    ('scaler', StandardScaler())\n",
    "])\n",
    "\n",
    "cat_pipeline = Pipeline(steps=[\n",
    "    ('imputer', SimpleImputer(strategy='most_frequent')),\n",
    "    ('onehot', OneHotEncoder(handle_unknown='ignore', sparse=False))\n",
    "])\n",
    "\n",
    "# Transformador completo\n",
    "preprocess = ColumnTransformer(\n",
    "    transformers=[\n",
    "        ('num', num_pipeline, num_cols),\n",
    "        ('cat', cat_pipeline, cat_cols)\n",
    "    ],\n",
    "    remainder='drop'\n",
    ")\n",
    "\n",
    "print(\"✅ Pipeline con imputación creado (num: median + escala | cat: most_frequent + one-hot)\")\n"
   ]
  },
  {
   "cell_type": "markdown",
   "metadata": {},
   "source": [
    "6.Baselines sin tratar desbalance (LogReg / Árbol / RandomForest)"
   ]
  },
  {
   "cell_type": "code",
   "execution_count": 9,
   "metadata": {},
   "outputs": [
    {
     "name": "stdout",
     "output_type": "stream",
     "text": [
      "[LogReg]  F1: 0.3215 | AUC-ROC: 0.7874\n",
      "Confusion Matrix:\n",
      " [[1551   42]\n",
      " [ 321   86]]\n",
      "[DecisionTree]  F1: 0.4941 | AUC-ROC: 0.6843\n",
      "Confusion Matrix:\n",
      " [[1366  227]\n",
      " [ 199  208]]\n",
      "[RandomForest]  F1: 0.5576 | AUC-ROC: 0.8526\n",
      "Confusion Matrix:\n",
      " [[1537   56]\n",
      " [ 228  179]]\n"
     ]
    },
    {
     "data": {
      "text/plain": [
       "[{'name': 'RandomForest',\n",
       "  'model': Pipeline(steps=[('prep',\n",
       "                   ColumnTransformer(transformers=[('num',\n",
       "                                                    Pipeline(steps=[('imputer',\n",
       "                                                                     SimpleImputer(strategy='median')),\n",
       "                                                                    ('scaler',\n",
       "                                                                     StandardScaler())]),\n",
       "                                                    ['CreditScore', 'Age',\n",
       "                                                     'Tenure', 'Balance',\n",
       "                                                     'NumOfProducts', 'HasCrCard',\n",
       "                                                     'IsActiveMember',\n",
       "                                                     'EstimatedSalary']),\n",
       "                                                   ('cat',\n",
       "                                                    Pipeline(steps=[('imputer',\n",
       "                                                                     SimpleImputer(strategy='most_frequent')),\n",
       "                                                                    ('onehot',\n",
       "                                                                     OneHotEncoder(handle_unknown='ignore',\n",
       "                                                                                   sparse=False))]),\n",
       "                                                    ['Geography', 'Gender'])])),\n",
       "                  ('clf',\n",
       "                   RandomForestClassifier(n_estimators=200, random_state=12345))]),\n",
       "  'f1': 0.557632398753894,\n",
       "  'aucroc': 0.8525813949542763}]"
      ]
     },
     "execution_count": 9,
     "metadata": {},
     "output_type": "execute_result"
    }
   ],
   "source": [
    "# ==== Baselines (LogReg / Árbol / RandomForest) sin tratar desbalance ====\n",
    "import numpy as np\n",
    "from sklearn.metrics import f1_score, roc_auc_score, confusion_matrix\n",
    "from sklearn.linear_model import LogisticRegression\n",
    "from sklearn.tree import DecisionTreeClassifier\n",
    "from sklearn.ensemble import RandomForestClassifier\n",
    "\n",
    "def evaluate_model(name, model, X_tr, y_tr, X_va, y_va):\n",
    "    model.fit(X_tr, y_tr)\n",
    "    preds = model.predict(X_va)\n",
    "    proba = model.predict_proba(X_va)[:,1] if hasattr(model, 'predict_proba') else None\n",
    "    f1  = f1_score(y_va, preds)\n",
    "    auc = roc_auc_score(y_va, proba) if proba is not None else np.nan\n",
    "    print(f'[{name}]  F1: {f1:.4f} | AUC-ROC: {auc:.4f}')\n",
    "    print('Confusion Matrix:\\n', confusion_matrix(y_va, preds))\n",
    "    return {'name': name, 'model': model, 'f1': f1, 'aucroc': auc}\n",
    "\n",
    "baselines = []\n",
    "for clf_name, clf in [\n",
    "    ('LogReg', LogisticRegression(max_iter=1000)),\n",
    "    ('DecisionTree', DecisionTreeClassifier(random_state=12345)),\n",
    "    ('RandomForest', RandomForestClassifier(n_estimators=200, random_state=12345))\n",
    "]:\n",
    "    pipe = Pipeline(steps=[('prep', preprocess), ('clf', clf)])\n",
    "    baselines.append(evaluate_model(clf_name, pipe, X_train, y_train, X_valid, y_valid))\n",
    "\n",
    "sorted_baselines = sorted(baselines, key=lambda d: d['f1'], reverse=True)\n",
    "sorted_baselines[:1]\n"
   ]
  },
  {
   "cell_type": "markdown",
   "metadata": {},
   "source": [
    "7.Resumen de baselines y mejor candidato provisional"
   ]
  },
  {
   "cell_type": "code",
   "execution_count": 23,
   "metadata": {},
   "outputs": [
    {
     "data": {
      "text/html": [
       "<div>\n",
       "<style scoped>\n",
       "    .dataframe tbody tr th:only-of-type {\n",
       "        vertical-align: middle;\n",
       "    }\n",
       "\n",
       "    .dataframe tbody tr th {\n",
       "        vertical-align: top;\n",
       "    }\n",
       "\n",
       "    .dataframe thead th {\n",
       "        text-align: right;\n",
       "    }\n",
       "</style>\n",
       "<table border=\"1\" class=\"dataframe\">\n",
       "  <thead>\n",
       "    <tr style=\"text-align: right;\">\n",
       "      <th></th>\n",
       "      <th>Modelo</th>\n",
       "      <th>F1_valid</th>\n",
       "      <th>AUCROC_valid</th>\n",
       "    </tr>\n",
       "  </thead>\n",
       "  <tbody>\n",
       "    <tr>\n",
       "      <th>0</th>\n",
       "      <td>RandomForest</td>\n",
       "      <td>0.557632</td>\n",
       "      <td>0.852581</td>\n",
       "    </tr>\n",
       "    <tr>\n",
       "      <th>1</th>\n",
       "      <td>DecisionTree</td>\n",
       "      <td>0.494062</td>\n",
       "      <td>0.684279</td>\n",
       "    </tr>\n",
       "    <tr>\n",
       "      <th>2</th>\n",
       "      <td>LogReg</td>\n",
       "      <td>0.321495</td>\n",
       "      <td>0.787435</td>\n",
       "    </tr>\n",
       "  </tbody>\n",
       "</table>\n",
       "</div>"
      ],
      "text/plain": [
       "         Modelo  F1_valid  AUCROC_valid\n",
       "0  RandomForest  0.557632      0.852581\n",
       "1  DecisionTree  0.494062      0.684279\n",
       "2        LogReg  0.321495      0.787435"
      ]
     },
     "metadata": {},
     "output_type": "display_data"
    },
    {
     "name": "stdout",
     "output_type": "stream",
     "text": [
      "\n",
      "Mejor baseline por F1 en valid:\n"
     ]
    },
    {
     "data": {
      "text/html": [
       "<div>\n",
       "<style scoped>\n",
       "    .dataframe tbody tr th:only-of-type {\n",
       "        vertical-align: middle;\n",
       "    }\n",
       "\n",
       "    .dataframe tbody tr th {\n",
       "        vertical-align: top;\n",
       "    }\n",
       "\n",
       "    .dataframe thead th {\n",
       "        text-align: right;\n",
       "    }\n",
       "</style>\n",
       "<table border=\"1\" class=\"dataframe\">\n",
       "  <thead>\n",
       "    <tr style=\"text-align: right;\">\n",
       "      <th></th>\n",
       "      <th>Modelo</th>\n",
       "      <th>F1_valid</th>\n",
       "      <th>AUCROC_valid</th>\n",
       "    </tr>\n",
       "  </thead>\n",
       "  <tbody>\n",
       "    <tr>\n",
       "      <th>0</th>\n",
       "      <td>RandomForest</td>\n",
       "      <td>0.557632</td>\n",
       "      <td>0.852581</td>\n",
       "    </tr>\n",
       "  </tbody>\n",
       "</table>\n",
       "</div>"
      ],
      "text/plain": [
       "         Modelo  F1_valid  AUCROC_valid\n",
       "0  RandomForest  0.557632      0.852581"
      ]
     },
     "metadata": {},
     "output_type": "display_data"
    }
   ],
   "source": [
    "# — Resumen baselines \n",
    "import pandas as pd\n",
    "\n",
    "summary_baselines = pd.DataFrame([\n",
    "    {'Modelo': r['name'], 'F1_valid': r['f1'], 'AUCROC_valid': r['aucroc']}\n",
    "    for r in baselines\n",
    "]).sort_values('F1_valid', ascending=False).reset_index(drop=True)\n",
    "\n",
    "display(summary_baselines)\n",
    "print(\"\\nMejor baseline por F1 en valid:\")\n",
    "display(summary_baselines.head(1))\n"
   ]
  },
  {
   "cell_type": "markdown",
   "metadata": {},
   "source": [
    "8. Corrección de desbalance A: class_weight='balanced'"
   ]
  },
  {
   "cell_type": "code",
   "execution_count": 24,
   "metadata": {},
   "outputs": [
    {
     "name": "stdout",
     "output_type": "stream",
     "text": [
      "[LogReg_bal]  F1: 0.5109 | AUC-ROC: 0.7918\n",
      "Confusion Matrix:\n",
      " [[1143  450]\n",
      " [ 113  294]]\n",
      "[DecisionTree_bal]  F1: 0.4939 | AUC-ROC: 0.6828\n",
      "Confusion Matrix:\n",
      " [[1381  212]\n",
      " [ 204  203]]\n",
      "[RandomForest_bal]  F1: 0.5736 | AUC-ROC: 0.8585\n",
      "Confusion Matrix:\n",
      " [[1540   53]\n",
      " [ 222  185]]\n",
      "\n",
      "Resultados con class_weight='balanced':\n"
     ]
    },
    {
     "data": {
      "text/html": [
       "<div>\n",
       "<style scoped>\n",
       "    .dataframe tbody tr th:only-of-type {\n",
       "        vertical-align: middle;\n",
       "    }\n",
       "\n",
       "    .dataframe tbody tr th {\n",
       "        vertical-align: top;\n",
       "    }\n",
       "\n",
       "    .dataframe thead th {\n",
       "        text-align: right;\n",
       "    }\n",
       "</style>\n",
       "<table border=\"1\" class=\"dataframe\">\n",
       "  <thead>\n",
       "    <tr style=\"text-align: right;\">\n",
       "      <th></th>\n",
       "      <th>Modelo</th>\n",
       "      <th>F1_valid</th>\n",
       "      <th>AUCROC_valid</th>\n",
       "    </tr>\n",
       "  </thead>\n",
       "  <tbody>\n",
       "    <tr>\n",
       "      <th>0</th>\n",
       "      <td>RandomForest_bal</td>\n",
       "      <td>0.573643</td>\n",
       "      <td>0.858490</td>\n",
       "    </tr>\n",
       "    <tr>\n",
       "      <th>1</th>\n",
       "      <td>LogReg_bal</td>\n",
       "      <td>0.510860</td>\n",
       "      <td>0.791758</td>\n",
       "    </tr>\n",
       "    <tr>\n",
       "      <th>2</th>\n",
       "      <td>DecisionTree_bal</td>\n",
       "      <td>0.493917</td>\n",
       "      <td>0.682845</td>\n",
       "    </tr>\n",
       "  </tbody>\n",
       "</table>\n",
       "</div>"
      ],
      "text/plain": [
       "             Modelo  F1_valid  AUCROC_valid\n",
       "0  RandomForest_bal  0.573643      0.858490\n",
       "1        LogReg_bal  0.510860      0.791758\n",
       "2  DecisionTree_bal  0.493917      0.682845"
      ]
     },
     "metadata": {},
     "output_type": "display_data"
    }
   ],
   "source": [
    "# — Desbalance A: class_weight='balanced' \n",
    "weighted_results = []\n",
    "\n",
    "for clf_name, clf in [\n",
    "    ('LogReg_bal', LogisticRegression(max_iter=1000, class_weight='balanced')),\n",
    "    ('DecisionTree_bal', DecisionTreeClassifier(random_state=12345, class_weight='balanced')),\n",
    "    ('RandomForest_bal', RandomForestClassifier(n_estimators=300, random_state=12345, class_weight='balanced'))\n",
    "]:\n",
    "    pipe = Pipeline(steps=[('prep', preprocess), ('clf', clf)])\n",
    "    weighted_results.append(evaluate_model(clf_name, pipe, X_train, y_train, X_valid, y_valid))\n",
    "\n",
    "summary_weighted = pd.DataFrame([\n",
    "    {'Modelo': r['name'], 'F1_valid': r['f1'], 'AUCROC_valid': r['aucroc']}\n",
    "    for r in weighted_results\n",
    "]).sort_values('F1_valid', ascending=False).reset_index(drop=True)\n",
    "\n",
    "print(\"\\nResultados con class_weight='balanced':\")\n",
    "display(summary_weighted)\n"
   ]
  },
  {
   "cell_type": "markdown",
   "metadata": {},
   "source": [
    "9. Corrección de desbalance B: ajuste de umbral para maximizar F1"
   ]
  },
  {
   "cell_type": "code",
   "execution_count": 25,
   "metadata": {},
   "outputs": [
    {
     "name": "stdout",
     "output_type": "stream",
     "text": [
      "Candidato para ajuste de umbral: RandomForest_bal\n",
      "Mejor umbral (valid) con RandomForest_bal: t=0.31 | F1=0.6249\n"
     ]
    }
   ],
   "source": [
    "# — Desbalance B: ajuste de umbral \n",
    "import numpy as np\n",
    "\n",
    "candidates = baselines + weighted_results\n",
    "best_by_f1 = max(candidates, key=lambda d: d['f1'])\n",
    "best_name, best_pipe = best_by_f1['name'], best_by_f1['model']\n",
    "print(\"Candidato para ajuste de umbral:\", best_name)\n",
    "\n",
    "best_pipe.fit(X_train, y_train)\n",
    "proba_valid = best_pipe.predict_proba(X_valid)[:, 1]\n",
    "\n",
    "thresholds = np.linspace(0.10, 0.90, 81)\n",
    "f1s = []\n",
    "for t in thresholds:\n",
    "    preds_t = (proba_valid >= t).astype(int)\n",
    "    f1s.append(f1_score(y_valid, preds_t))\n",
    "\n",
    "thr_idx = int(np.argmax(f1s))\n",
    "thr_star_pre = float(thresholds[thr_idx])\n",
    "f1_star_pre  = float(f1s[thr_idx])\n",
    "\n",
    "print(f\"Mejor umbral (valid) con {best_name}: t={thr_star_pre:.2f} | F1={f1_star_pre:.4f}\")\n"
   ]
  },
  {
   "cell_type": "markdown",
   "metadata": {},
   "source": [
    "10. (Opcional) Corrección de desbalance C: upsampling simple"
   ]
  },
  {
   "cell_type": "code",
   "execution_count": 26,
   "metadata": {},
   "outputs": [
    {
     "name": "stdout",
     "output_type": "stream",
     "text": [
      "Distribución tras upsampling: {0: 4777, 1: 4777}\n",
      "[LogReg_upsample]  F1: 0.5126 | AUC-ROC: 0.7924\n",
      "Confusion Matrix:\n",
      " [[1141  452]\n",
      " [ 111  296]]\n"
     ]
    }
   ],
   "source": [
    "#  — (Opcional) Upsampling simple\n",
    "def upsample_minority(X, y, target='Exited', random_state=12345):\n",
    "    data = X.copy()\n",
    "    data[target] = y.values\n",
    "    counts = data[target].value_counts()\n",
    "    maj = counts.idxmax()\n",
    "    mino = counts.idxmin()\n",
    "    df_maj = data[data[target]==maj]\n",
    "    df_min = data[data[target]==mino]\n",
    "    df_min_up = df_min.sample(len(df_maj), replace=True, random_state=random_state)\n",
    "    up = pd.concat([df_maj, df_min_up], axis=0).sample(frac=1.0, random_state=random_state).reset_index(drop=True)\n",
    "    X_up = up.drop(columns=[target])\n",
    "    y_up = up[target]\n",
    "    return X_up, y_up\n",
    "\n",
    "X_train_up, y_train_up = upsample_minority(X_train, y_train, target='Exited', random_state=12345)\n",
    "print(\"Distribución tras upsampling:\", y_train_up.value_counts().to_dict())\n",
    "\n",
    "pipe_up = Pipeline(steps=[('prep', preprocess), ('clf', LogisticRegression(max_iter=1000))])\n",
    "res_up = evaluate_model('LogReg_upsample', pipe_up, X_train_up, y_train_up, X_valid, y_valid)\n"
   ]
  },
  {
   "cell_type": "markdown",
   "metadata": {},
   "source": [
    "11. Comparativa global y selección de candidato"
   ]
  },
  {
   "cell_type": "code",
   "execution_count": 27,
   "metadata": {},
   "outputs": [
    {
     "data": {
      "text/html": [
       "<div>\n",
       "<style scoped>\n",
       "    .dataframe tbody tr th:only-of-type {\n",
       "        vertical-align: middle;\n",
       "    }\n",
       "\n",
       "    .dataframe tbody tr th {\n",
       "        vertical-align: top;\n",
       "    }\n",
       "\n",
       "    .dataframe thead th {\n",
       "        text-align: right;\n",
       "    }\n",
       "</style>\n",
       "<table border=\"1\" class=\"dataframe\">\n",
       "  <thead>\n",
       "    <tr style=\"text-align: right;\">\n",
       "      <th></th>\n",
       "      <th>Modelo</th>\n",
       "      <th>F1_valid</th>\n",
       "      <th>AUCROC_valid</th>\n",
       "    </tr>\n",
       "  </thead>\n",
       "  <tbody>\n",
       "    <tr>\n",
       "      <th>0</th>\n",
       "      <td>RandomForest_bal</td>\n",
       "      <td>0.573643</td>\n",
       "      <td>0.858490</td>\n",
       "    </tr>\n",
       "    <tr>\n",
       "      <th>1</th>\n",
       "      <td>RandomForest</td>\n",
       "      <td>0.557632</td>\n",
       "      <td>0.852581</td>\n",
       "    </tr>\n",
       "    <tr>\n",
       "      <th>2</th>\n",
       "      <td>LogReg_upsample</td>\n",
       "      <td>0.512554</td>\n",
       "      <td>0.792412</td>\n",
       "    </tr>\n",
       "    <tr>\n",
       "      <th>3</th>\n",
       "      <td>LogReg_bal</td>\n",
       "      <td>0.510860</td>\n",
       "      <td>0.791758</td>\n",
       "    </tr>\n",
       "    <tr>\n",
       "      <th>4</th>\n",
       "      <td>DecisionTree</td>\n",
       "      <td>0.494062</td>\n",
       "      <td>0.684279</td>\n",
       "    </tr>\n",
       "    <tr>\n",
       "      <th>5</th>\n",
       "      <td>DecisionTree_bal</td>\n",
       "      <td>0.493917</td>\n",
       "      <td>0.682845</td>\n",
       "    </tr>\n",
       "    <tr>\n",
       "      <th>6</th>\n",
       "      <td>LogReg</td>\n",
       "      <td>0.321495</td>\n",
       "      <td>0.787435</td>\n",
       "    </tr>\n",
       "  </tbody>\n",
       "</table>\n",
       "</div>"
      ],
      "text/plain": [
       "             Modelo  F1_valid  AUCROC_valid\n",
       "0  RandomForest_bal  0.573643      0.858490\n",
       "1      RandomForest  0.557632      0.852581\n",
       "2   LogReg_upsample  0.512554      0.792412\n",
       "3        LogReg_bal  0.510860      0.791758\n",
       "4      DecisionTree  0.494062      0.684279\n",
       "5  DecisionTree_bal  0.493917      0.682845\n",
       "6            LogReg  0.321495      0.787435"
      ]
     },
     "metadata": {},
     "output_type": "display_data"
    },
    {
     "name": "stdout",
     "output_type": "stream",
     "text": [
      "\n",
      "=> Mejor candidato por F1 en valid: RandomForest_bal\n"
     ]
    }
   ],
   "source": [
    "#  — Comparativa de enfoques \n",
    "all_results = baselines + weighted_results + ([{'name': 'LogReg_upsample', 'model': pipe_up, 'f1': res_up['f1'], 'aucroc': res_up['aucroc']}] if 'res_up' in locals() else [])\n",
    "\n",
    "df_all = pd.DataFrame([\n",
    "    {'Modelo': r['name'], 'F1_valid': r['f1'], 'AUCROC_valid': r['aucroc']}\n",
    "    for r in all_results\n",
    "]).sort_values('F1_valid', ascending=False).reset_index(drop=True)\n",
    "\n",
    "display(df_all)\n",
    "best_overall = max(all_results, key=lambda d: d['f1'])\n",
    "print(\"\\n=> Mejor candidato por F1 en valid:\", best_overall['name'])\n",
    "best_pipe_overall = best_overall['model']\n"
   ]
  },
  {
   "cell_type": "markdown",
   "metadata": {},
   "source": [
    "12. Búsqueda breve de hiperparámetros (GridSearchCV)"
   ]
  },
  {
   "cell_type": "code",
   "execution_count": 28,
   "metadata": {},
   "outputs": [
    {
     "name": "stdout",
     "output_type": "stream",
     "text": [
      "Mejores params: {'clf__max_depth': 12, 'clf__min_samples_split': 5, 'clf__n_estimators': 200}\n",
      "Mejor F1 (CV): 0.5925980770598153\n"
     ]
    }
   ],
   "source": [
    "#  — GridSearchCV sobre mejor candidato \n",
    "from sklearn.model_selection import GridSearchCV\n",
    "\n",
    "# Detectamos el tipo de estimador final dentro del pipeline\n",
    "final_clf = best_pipe_overall.named_steps['clf']\n",
    "param_grid = {}\n",
    "\n",
    "from sklearn.linear_model import LogisticRegression\n",
    "from sklearn.ensemble import RandomForestClassifier\n",
    "from sklearn.tree import DecisionTreeClassifier\n",
    "\n",
    "if isinstance(final_clf, RandomForestClassifier):\n",
    "    param_grid = {\n",
    "        'clf__n_estimators': [200, 400],\n",
    "        'clf__max_depth': [None, 8, 12],\n",
    "        'clf__min_samples_split': [2, 5]\n",
    "    }\n",
    "elif isinstance(final_clf, LogisticRegression):\n",
    "    param_grid = {\n",
    "        'clf__C': [0.5, 1.0, 2.0],\n",
    "        'clf__penalty': ['l2'],\n",
    "        'clf__solver': ['lbfgs']\n",
    "    }\n",
    "elif isinstance(final_clf, DecisionTreeClassifier):\n",
    "    param_grid = {\n",
    "        'clf__max_depth': [4, 6, 10, None],\n",
    "        'clf__min_samples_split': [2, 10, 20]\n",
    "    }\n",
    "\n",
    "if len(param_grid)==0:\n",
    "    print(\"Sin grid específico para este estimador; usaré el pipeline tal cual.\")\n",
    "    best_model = best_pipe_overall\n",
    "else:\n",
    "    gs = GridSearchCV(best_pipe_overall, param_grid=param_grid, scoring='f1', cv=3, n_jobs=-1, verbose=0)\n",
    "    gs.fit(X_train, y_train)\n",
    "    print('Mejores params:', gs.best_params_)\n",
    "    print('Mejor F1 (CV):', gs.best_score_)\n",
    "    best_model = gs.best_estimator_\n"
   ]
  },
  {
   "cell_type": "markdown",
   "metadata": {},
   "source": [
    "13. Selección de umbral óptimo en valid para el modelo optimizado"
   ]
  },
  {
   "cell_type": "code",
   "execution_count": 29,
   "metadata": {},
   "outputs": [
    {
     "name": "stdout",
     "output_type": "stream",
     "text": [
      "Umbral óptimo en valid: t=0.45 | F1=0.6459\n"
     ]
    }
   ],
   "source": [
    "# — Umbral óptimo en valid para best_model \n",
    "import numpy as np\n",
    "from sklearn.metrics import f1_score\n",
    "\n",
    "proba_valid_best = best_model.predict_proba(X_valid)[:,1]\n",
    "thresholds = np.linspace(0.10, 0.90, 81)\n",
    "f1s = [f1_score(y_valid, (proba_valid_best>=t).astype(int)) for t in thresholds]\n",
    "thr_star = float(thresholds[int(np.argmax(f1s))])\n",
    "f1_star = float(np.max(f1s))\n",
    "\n",
    "print(f\"Umbral óptimo en valid: t={thr_star:.2f} | F1={f1_star:.4f}\")\n"
   ]
  },
  {
   "cell_type": "markdown",
   "metadata": {},
   "source": [
    "14. Entrenamiento final (train+valid) y evaluación en test"
   ]
  },
  {
   "cell_type": "code",
   "execution_count": 30,
   "metadata": {},
   "outputs": [
    {
     "name": "stdout",
     "output_type": "stream",
     "text": [
      ">> TEST :: F1=0.6323 | AUC-ROC=0.8633\n",
      "Matriz de confusión (test):\n",
      " [[1416  177]\n",
      " [ 137  270]]\n",
      "\n",
      "Reporte de clasificación (test):\n",
      "               precision    recall  f1-score   support\n",
      "\n",
      "           0       0.91      0.89      0.90      1593\n",
      "           1       0.60      0.66      0.63       407\n",
      "\n",
      "    accuracy                           0.84      2000\n",
      "   macro avg       0.76      0.78      0.77      2000\n",
      "weighted avg       0.85      0.84      0.85      2000\n",
      "\n"
     ]
    }
   ],
   "source": [
    "# — Entrenamiento final y test\n",
    "import pandas as pd\n",
    "from sklearn.metrics import f1_score, roc_auc_score, confusion_matrix, classification_report\n",
    "\n",
    "X_tr_final = pd.concat([X_train, X_valid], axis=0)\n",
    "y_tr_final = pd.concat([y_train, y_valid], axis=0)\n",
    "\n",
    "best_model.fit(X_tr_final, y_tr_final)\n",
    "\n",
    "proba_test = best_model.predict_proba(X_test)[:,1]\n",
    "preds_test = (proba_test >= thr_star).astype(int)\n",
    "\n",
    "f1_final  = f1_score(y_test, preds_test)\n",
    "auc_final = roc_auc_score(y_test, proba_test)\n",
    "cm_final  = confusion_matrix(y_test, preds_test)\n",
    "\n",
    "print(f\">> TEST :: F1={f1_final:.4f} | AUC-ROC={auc_final:.4f}\")\n",
    "print(\"Matriz de confusión (test):\\n\", cm_final)\n",
    "print(\"\\nReporte de clasificación (test):\\n\", classification_report(y_test, preds_test))\n"
   ]
  },
  {
   "cell_type": "markdown",
   "metadata": {},
   "source": [
    "15. Interpretabilidad: coeficientes / importancias"
   ]
  },
  {
   "cell_type": "code",
   "execution_count": 31,
   "metadata": {},
   "outputs": [
    {
     "name": "stdout",
     "output_type": "stream",
     "text": [
      "No fue posible construir los nombres de features: 'OneHotEncoder' object has no attribute 'get_feature_names_out'\n",
      "Columnas transformadas: 13\n",
      "⚠️ No fue posible extraer nombres; usaré índices genéricos.\n"
     ]
    },
    {
     "data": {
      "text/html": [
       "<div>\n",
       "<style scoped>\n",
       "    .dataframe tbody tr th:only-of-type {\n",
       "        vertical-align: middle;\n",
       "    }\n",
       "\n",
       "    .dataframe tbody tr th {\n",
       "        vertical-align: top;\n",
       "    }\n",
       "\n",
       "    .dataframe thead th {\n",
       "        text-align: right;\n",
       "    }\n",
       "</style>\n",
       "<table border=\"1\" class=\"dataframe\">\n",
       "  <thead>\n",
       "    <tr style=\"text-align: right;\">\n",
       "      <th></th>\n",
       "      <th>feature</th>\n",
       "      <th>importance</th>\n",
       "    </tr>\n",
       "  </thead>\n",
       "  <tbody>\n",
       "    <tr>\n",
       "      <th>1</th>\n",
       "      <td>feat_1</td>\n",
       "      <td>0.283462</td>\n",
       "    </tr>\n",
       "    <tr>\n",
       "      <th>4</th>\n",
       "      <td>feat_4</td>\n",
       "      <td>0.173551</td>\n",
       "    </tr>\n",
       "    <tr>\n",
       "      <th>3</th>\n",
       "      <td>feat_3</td>\n",
       "      <td>0.127041</td>\n",
       "    </tr>\n",
       "    <tr>\n",
       "      <th>7</th>\n",
       "      <td>feat_7</td>\n",
       "      <td>0.108963</td>\n",
       "    </tr>\n",
       "    <tr>\n",
       "      <th>0</th>\n",
       "      <td>feat_0</td>\n",
       "      <td>0.102514</td>\n",
       "    </tr>\n",
       "    <tr>\n",
       "      <th>2</th>\n",
       "      <td>feat_2</td>\n",
       "      <td>0.061226</td>\n",
       "    </tr>\n",
       "    <tr>\n",
       "      <th>6</th>\n",
       "      <td>feat_6</td>\n",
       "      <td>0.052366</td>\n",
       "    </tr>\n",
       "    <tr>\n",
       "      <th>9</th>\n",
       "      <td>feat_9</td>\n",
       "      <td>0.029705</td>\n",
       "    </tr>\n",
       "    <tr>\n",
       "      <th>5</th>\n",
       "      <td>feat_5</td>\n",
       "      <td>0.013943</td>\n",
       "    </tr>\n",
       "    <tr>\n",
       "      <th>11</th>\n",
       "      <td>feat_11</td>\n",
       "      <td>0.013250</td>\n",
       "    </tr>\n",
       "    <tr>\n",
       "      <th>8</th>\n",
       "      <td>feat_8</td>\n",
       "      <td>0.011812</td>\n",
       "    </tr>\n",
       "    <tr>\n",
       "      <th>12</th>\n",
       "      <td>feat_12</td>\n",
       "      <td>0.011788</td>\n",
       "    </tr>\n",
       "    <tr>\n",
       "      <th>10</th>\n",
       "      <td>feat_10</td>\n",
       "      <td>0.010377</td>\n",
       "    </tr>\n",
       "  </tbody>\n",
       "</table>\n",
       "</div>"
      ],
      "text/plain": [
       "    feature  importance\n",
       "1    feat_1    0.283462\n",
       "4    feat_4    0.173551\n",
       "3    feat_3    0.127041\n",
       "7    feat_7    0.108963\n",
       "0    feat_0    0.102514\n",
       "2    feat_2    0.061226\n",
       "6    feat_6    0.052366\n",
       "9    feat_9    0.029705\n",
       "5    feat_5    0.013943\n",
       "11  feat_11    0.013250\n",
       "8    feat_8    0.011812\n",
       "12  feat_12    0.011788\n",
       "10  feat_10    0.010377"
      ]
     },
     "metadata": {},
     "output_type": "display_data"
    }
   ],
   "source": [
    "# — Interpretabilidad (coeficientes / importancias) [ROBUSTA]\n",
    "import numpy as np\n",
    "import pandas as pd\n",
    "\n",
    "pipe = best_model                     # Pipeline(prep -> clf)\n",
    "prep = pipe.named_steps['prep']       # ColumnTransformer\n",
    "clf  = pipe.named_steps['clf']        # Estimador final\n",
    "\n",
    "# 1) Intento 1: pedirle los nombres al ColumnTransformer \n",
    "feature_names = None\n",
    "try:\n",
    "    feature_names = prep.get_feature_names_out()\n",
    "except Exception:\n",
    "    pass\n",
    "\n",
    "# 2) Intento 2: construirlos manualmente \n",
    "if feature_names is None:\n",
    "    try:\n",
    "        # num_cols y cat_cols vienen de la Celda 5 \n",
    "        num_features = list(num_cols)\n",
    "\n",
    "        # Navegamos al OneHot dentro del transformer 'cat'\n",
    "        cat_transformer = prep.named_transformers_['cat']\n",
    "        ohe = cat_transformer.named_steps['onehot']\n",
    "        cat_features = ohe.get_feature_names_out(cat_cols)\n",
    "\n",
    "        feature_names = np.concatenate([num_features, cat_features])\n",
    "    except Exception as e:\n",
    "        print(\"No fue posible construir los nombres de features:\", e)\n",
    "        feature_names = None\n",
    "\n",
    "# 3) Comprobamos tamaños transformando un batch para ver columnas reales\n",
    "#    (usamos X_train porque es coherente con el ajuste del pipeline)\n",
    "Xtr_trans = prep.transform(X_train)\n",
    "n_cols_trans = Xtr_trans.shape[1]\n",
    "print(f\"Columnas transformadas: {n_cols_trans}\")\n",
    "\n",
    "if feature_names is not None:\n",
    "    print(f\"Longitud feature_names: {len(feature_names)}\")\n",
    "    if len(feature_names) != n_cols_trans:\n",
    "        print(\"⚠️ Tamaños no coinciden entre feature_names y matriz transformada. Usaré índices numéricos.\")\n",
    "        feature_names = np.array([f\"feat_{i}\" for i in range(n_cols_trans)])\n",
    "else:\n",
    "    print(\"⚠️ No fue posible extraer nombres; usaré índices genéricos.\")\n",
    "    feature_names = np.array([f\"feat_{i}\" for i in range(n_cols_trans)])\n",
    "\n",
    "# 4) Mostrar importancias o coeficientes\n",
    "if hasattr(clf, 'coef_'):\n",
    "    coefs = clf.coef_.ravel()\n",
    "    if len(coefs) == len(feature_names):\n",
    "        imp = pd.DataFrame({'feature': feature_names, 'coef': coefs}) \\\n",
    "              .sort_values('coef', key=np.abs, ascending=False)\n",
    "        display(imp.head(20))\n",
    "    else:\n",
    "        print(\"⚠️ Tamaños no coinciden para coeficientes y nombres de features.\")\n",
    "elif hasattr(clf, 'feature_importances_'):\n",
    "    imps = clf.feature_importances_\n",
    "    if len(imps) == len(feature_names):\n",
    "        imp = pd.DataFrame({'feature': feature_names, 'importance': imps}) \\\n",
    "              .sort_values('importance', ascending=False)\n",
    "        display(imp.head(20))\n",
    "    else:\n",
    "        print(\"⚠️ Tamaños no coinciden para importancias y nombres de features.\")\n",
    "else:\n",
    "    print(\"El estimador no expone coeficientes ni importancias.\")\n"
   ]
  },
  {
   "cell_type": "markdown",
   "metadata": {},
   "source": [
    "16. (Opcional) Curvas ROC y PR del modelo final"
   ]
  },
  {
   "cell_type": "code",
   "execution_count": 32,
   "metadata": {},
   "outputs": [
    {
     "data": {
      "image/png": "[encoded data removed]",
      "text/plain": [
       "<Figure size 640x480 with 1 Axes>"
      ]
     },
     "metadata": {},
     "output_type": "display_data"
    },
    {
     "data": {
      "image/png": "[encoded data removed]",
      "text/plain": [
       "<Figure size 640x480 with 1 Axes>"
      ]
     },
     "metadata": {},
     "output_type": "display_data"
    },
    {
     "name": "stdout",
     "output_type": "stream",
     "text": [
      "AUC-PR: 0.6840430805443432\n"
     ]
    }
   ],
   "source": [
    "# — Curvas ROC y PR \n",
    "import matplotlib.pyplot as plt\n",
    "from sklearn.metrics import roc_curve, precision_recall_curve, auc\n",
    "\n",
    "# ROC\n",
    "fpr, tpr, _ = roc_curve(y_test, proba_test)\n",
    "plt.figure()\n",
    "plt.plot(fpr, tpr)\n",
    "plt.plot([0,1],[0,1], linestyle='--')\n",
    "plt.title('ROC curve (test)')\n",
    "plt.xlabel('False Positive Rate')\n",
    "plt.ylabel('True Positive Rate')\n",
    "plt.show()\n",
    "\n",
    "# PR\n",
    "prec, rec, _ = precision_recall_curve(y_test, proba_test)\n",
    "plt.figure()\n",
    "plt.plot(rec, prec)\n",
    "plt.title('Precision-Recall curve (test)')\n",
    "plt.xlabel('Recall')\n",
    "plt.ylabel('Precision')\n",
    "plt.show()\n",
    "\n",
    "print(\"AUC-PR:\", auc(rec, prec))\n"
   ]
  },
  {
   "cell_type": "markdown",
   "metadata": {},
   "source": [
    "17.Conclusiones y próximos pasos"
   ]
  },
  {
   "cell_type": "markdown",
   "metadata": {},
   "source": [
    "•\tObjetivo cumplido: modelo para predecir churn maximizando F1 y reportando AUC-ROC.\n",
    "•\tPreprocesamiento: imputación (num: median, cat: most_frequent), One-Hot y escalado dentro de un pipeline (evita leakage).\n",
    "•\tDesbalance: probamos class_weight='balanced' y ajuste de umbral (mejora directa de F1). (Opcional probado: upsampling simple).\n",
    "•\tMejor enfoque: {{modelo_seleccionado}} con umbral t={{thr_star}}.\n",
    "•\tMétricas (test): F1 = {{f1_final}} (meta ≥ 0.59: {{cumple_si_no}}), AUC-ROC = {{auc_final}}.\n",
    "•\tDiagnóstico: matriz de confusión y reporte de clasificación confirman el balance precisión/recall acorde al umbral elegido.\n",
    "•\tInterpretabilidad: nombres de features obtenidos vía get_feature_names_out(); si no disponible, reconstruidos (num_cols + OHE). Si hubo desalineación, se usaron nombres genéricos (feat_i) preservando el ranking.\n",
    "Próximos pasos (concretos y breves):\n",
    "•\tAmpliar GridSearch del mejor estimador (2–3 hiperparámetros clave).\n",
    "•\tProbar SMOTE/submuestreo si se requiere más recall sin perder F1.\n",
    "•\tEvaluar calibración de probabilidades (Platt/Isotonic) y re-ajustar umbral.\n",
    "•\tRevisar top features para acciones de retención (reglas de negocio).\n"
   ]
  },
  {
   "cell_type": "code",
   "execution_count": 34,
   "metadata": {},
   "outputs": [
    {
     "name": "stdout",
     "output_type": "stream",
     "text": [
      "✅ model.pkl guardado\n"
     ]
    }
   ],
   "source": [
    "# Guardado del pipeline final entrenado como model.pkl\n",
    "import joblib\n",
    "joblib.dump(best_model, 'model.pkl')\n",
    "print(\"✅ model.pkl guardado\")\n"
   ]
  },
  {
   "cell_type": "code",
   "execution_count": 35,
   "metadata": {},
   "outputs": [
    {
     "name": "stdout",
     "output_type": "stream",
     "text": [
      "Carpeta actual: /app\n",
      "Existe: True\n",
      "Ruta absoluta: /app/model.pkl\n"
     ]
    }
   ],
   "source": [
    "from pathlib import Path\n",
    "import os\n",
    "\n",
    "print(\"Carpeta actual:\", os.getcwd())\n",
    "p = Path(\"model.pkl\")\n",
    "print(\"Existe:\", p.exists())\n",
    "print(\"Ruta absoluta:\", p.resolve())\n"
   ]
  },
  {
   "cell_type": "code",
   "execution_count": null,
   "metadata": {},
   "outputs": [],
   "source": []
  }
 ],
 "metadata": {
  "kernelspec": {
   "display_name": "Python 3 (ipykernel)",
   "language": "python",
   "name": "python3"
  },
  "language_info": {
   "codemirror_mode": {
    "name": "ipython",
    "version": 3
   },
   "file_extension": ".py",
   "mimetype": "text/x-python",
   "name": "python",
   "nbconvert_exporter": "python",
   "pygments_lexer": "ipython3",
   "version": "3.9.23"
  }
 },
 "nbformat": 4,
 "nbformat_minor": 4
}
